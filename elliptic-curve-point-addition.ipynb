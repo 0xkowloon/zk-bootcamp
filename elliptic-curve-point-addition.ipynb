{
 "cells": [
  {
   "cell_type": "code",
   "execution_count": 27,
   "id": "103a1d59-9bd6-4df0-a328-ee8047ce53d1",
   "metadata": {},
   "outputs": [],
   "source": [
    "from sympy import var, init_printing\n",
    "\n",
    "init_printing()\n",
    "\n",
    "var('y_t y_u x_t x_u')\n",
    "lambda_p = (y_u - y_t)/(x_u - x_t)\n",
    "x_p = lambda_p**2 - x_t - x_u\n",
    "y_p = (lambda_p*(x_t - x_p) - y_t)\n",
    "\n",
    "lambda_q = (y_t - y_u)/(x_t - x_u)\n",
    "x_q = lambda_q**2 - x_u - x_t\n",
    "y_q = (lambda_q*(x_u - x_q) - y_u)"
   ]
  },
  {
   "cell_type": "code",
   "execution_count": 26,
   "id": "3dc0b18f-b563-4bf6-bf99-571cc16e05cb",
   "metadata": {},
   "outputs": [
    {
     "data": {
      "image/png": "[encoded data removed]",
      "text/latex": [
       "$\\displaystyle - x_{t} - x_{u} + \\frac{\\left(y_{t} - y_{u}\\right)^{2}}{\\left(x_{t} - x_{u}\\right)^{2}}$"
      ],
      "text/plain": [
       "                    2\n",
       "           (yₜ - yᵤ) \n",
       "-xₜ - xᵤ + ──────────\n",
       "                    2\n",
       "           (xₜ - xᵤ) "
      ]
     },
     "metadata": {},
     "output_type": "display_data"
    }
   ],
   "source": [
    "display(x_q)"
   ]
  },
  {
   "cell_type": "code",
   "execution_count": 25,
   "id": "8f5a16b7-1eba-49b5-8aec-00fc8d2492ec",
   "metadata": {},
   "outputs": [
    {
     "data": {
      "image/png": "[encoded data removed]",
      "text/latex": [
       "$\\displaystyle - x_{t} - x_{u} + \\frac{\\left(- y_{t} + y_{u}\\right)^{2}}{\\left(- x_{t} + x_{u}\\right)^{2}}$"
      ],
      "text/plain": [
       "                     2\n",
       "           (-yₜ + yᵤ) \n",
       "-xₜ - xᵤ + ───────────\n",
       "                     2\n",
       "           (-xₜ + xᵤ) "
      ]
     },
     "metadata": {},
     "output_type": "display_data"
    }
   ],
   "source": [
    "display(x_p)"
   ]
  },
  {
   "cell_type": "code",
   "execution_count": 24,
   "id": "22cf4482-3841-480d-ba55-957627db50a1",
   "metadata": {},
   "outputs": [
    {
     "data": {
      "image/png": "[encoded data removed]",
      "text/latex": [
       "$\\displaystyle \\frac{x_{t}^{3} y_{t} - 2 x_{t}^{3} y_{u} + 3 x_{t}^{2} x_{u} y_{u} - 3 x_{t} x_{u}^{2} y_{t} + 2 x_{u}^{3} y_{t} - x_{u}^{3} y_{u} - y_{t}^{3} + 3 y_{t}^{2} y_{u} - 3 y_{t} y_{u}^{2} + y_{u}^{3}}{x_{t}^{3} - 3 x_{t}^{2} x_{u} + 3 x_{t} x_{u}^{2} - x_{u}^{3}}$"
      ],
      "text/plain": [
       "  3          3          2                2          3        3        3        ↪\n",
       "xₜ ⋅yₜ - 2⋅xₜ ⋅yᵤ + 3⋅xₜ ⋅xᵤ⋅yᵤ - 3⋅xₜ⋅xᵤ ⋅yₜ + 2⋅xᵤ ⋅yₜ - xᵤ ⋅yᵤ - yₜ  + 3⋅yₜ ↪\n",
       "────────────────────────────────────────────────────────────────────────────── ↪\n",
       "                                    3       2             2     3              ↪\n",
       "                                  xₜ  - 3⋅xₜ ⋅xᵤ + 3⋅xₜ⋅xᵤ  - xᵤ               ↪\n",
       "\n",
       "↪ 2             2     3\n",
       "↪  ⋅yᵤ - 3⋅yₜ⋅yᵤ  + yᵤ \n",
       "↪ ─────────────────────\n",
       "↪                      \n",
       "↪                      "
      ]
     },
     "metadata": {},
     "output_type": "display_data"
    }
   ],
   "source": [
    "display(y_q.expand().simplify())"
   ]
  },
  {
   "cell_type": "code",
   "execution_count": 28,
   "id": "5301a81b-8c17-4f36-bff1-88e34b34ff70",
   "metadata": {},
   "outputs": [
    {
     "data": {
      "image/png": "[encoded data removed]",
      "text/latex": [
       "$\\displaystyle \\frac{x_{t}^{3} y_{t} - 2 x_{t}^{3} y_{u} + 3 x_{t}^{2} x_{u} y_{u} - 3 x_{t} x_{u}^{2} y_{t} + 2 x_{u}^{3} y_{t} - x_{u}^{3} y_{u} - y_{t}^{3} + 3 y_{t}^{2} y_{u} - 3 y_{t} y_{u}^{2} + y_{u}^{3}}{x_{t}^{3} - 3 x_{t}^{2} x_{u} + 3 x_{t} x_{u}^{2} - x_{u}^{3}}$"
      ],
      "text/plain": [
       "  3          3          2                2          3        3        3        ↪\n",
       "xₜ ⋅yₜ - 2⋅xₜ ⋅yᵤ + 3⋅xₜ ⋅xᵤ⋅yᵤ - 3⋅xₜ⋅xᵤ ⋅yₜ + 2⋅xᵤ ⋅yₜ - xᵤ ⋅yᵤ - yₜ  + 3⋅yₜ ↪\n",
       "────────────────────────────────────────────────────────────────────────────── ↪\n",
       "                                    3       2             2     3              ↪\n",
       "                                  xₜ  - 3⋅xₜ ⋅xᵤ + 3⋅xₜ⋅xᵤ  - xᵤ               ↪\n",
       "\n",
       "↪ 2             2     3\n",
       "↪  ⋅yᵤ - 3⋅yₜ⋅yᵤ  + yᵤ \n",
       "↪ ─────────────────────\n",
       "↪                      \n",
       "↪                      "
      ]
     },
     "metadata": {},
     "output_type": "display_data"
    }
   ],
   "source": [
    "display(y_p.expand().simplify())"
   ]
  },
  {
   "cell_type": "code",
   "execution_count": 59,
   "id": "f65f5990-e0b0-444f-ab0b-b34a7d9c50dd",
   "metadata": {},
   "outputs": [],
   "source": [
    "from mod_inverse import mod_inverse\n",
    "\n",
    "# y**2 = x**3 + 2x + 3\n",
    "a = 2\n",
    "b = 3\n",
    "p = 71\n",
    "\n",
    "def elliptic_add(P1, P2, a, p):\n",
    "    if P1 is None:\n",
    "        return Q\n",
    "\n",
    "    if P2 is None:\n",
    "        return P\n",
    "        \n",
    "    (x1, y1) = P1\n",
    "    (x2, y2) = P2\n",
    "\n",
    "    # Infinity\n",
    "    if x1 == x2 and y1 != y2:\n",
    "        return None\n",
    "\n",
    "    if P1 == P2:\n",
    "        lambda_term = ((3 * x1**2 + a) * mod_inverse(2 * y1, p)) % p\n",
    "        x3 = (lambda_term**2 - 2 * x1) % p\n",
    "        y3 = (lambda_term * (x1 - x3) - y1) % p\n",
    "\n",
    "        return (x3, y3)\n",
    "    else:\n",
    "        lambda_term = ((y2 - y1) * mod_inverse(x2 - x1, p)) % p\n",
    "        x3 = (lambda_term**2 - x1 - x2) % p\n",
    "        y3 = (lambda_term * (x1 - x3) - y1) % p\n",
    "\n",
    "        return (x3, y3)"
   ]
  },
  {
   "cell_type": "code",
   "execution_count": 57,
   "id": "efd9dbbe-dd33-4033-a69b-ac29aef9c6f0",
   "metadata": {},
   "outputs": [
    {
     "name": "stdout",
     "output_type": "stream",
     "text": [
      "P + Q = (20, 30)\n"
     ]
    }
   ],
   "source": [
    "P = (3, 6)\n",
    "Q = (80, 10)\n",
    "\n",
    "R = elliptic_add(P, Q, a, p)\n",
    "print(\"P + Q =\", R)"
   ]
  },
  {
   "cell_type": "code",
   "execution_count": 60,
   "id": "49251dc0-d19d-499c-b2ce-9a1776cf891f",
   "metadata": {},
   "outputs": [
    {
     "name": "stdout",
     "output_type": "stream",
     "text": [
      "P + Q = (24, 32)\n"
     ]
    }
   ],
   "source": [
    "P = (3, 6)\n",
    "Q = (3, 6)\n",
    "\n",
    "R = elliptic_add(P, Q, a, p)\n",
    "print(\"P + Q =\", R)"
   ]
  },
  {
   "cell_type": "code",
   "execution_count": null,
   "id": "29de8cd6-560c-4376-ad39-8e40121d02e4",
   "metadata": {},
   "outputs": [],
   "source": []
  }
 ],
 "metadata": {
  "kernelspec": {
   "display_name": "Python 3 (ipykernel)",
   "language": "python",
   "name": "python3"
  },
  "language_info": {
   "codemirror_mode": {
    "name": "ipython",
    "version": 3
   },
   "file_extension": ".py",
   "mimetype": "text/x-python",
   "name": "python",
   "nbconvert_exporter": "python",
   "pygments_lexer": "ipython3",
   "version": "3.9.18"
  }
 },
 "nbformat": 4,
 "nbformat_minor": 5
}
